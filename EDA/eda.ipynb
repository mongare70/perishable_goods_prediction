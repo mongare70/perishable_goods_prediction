{
 "cells": [
  {
   "cell_type": "markdown",
   "id": "3bf6e874",
   "metadata": {},
   "source": [
    "# Importing libraries"
   ]
  },
  {
   "cell_type": "code",
   "execution_count": 2,
   "id": "136cbb67",
   "metadata": {},
   "outputs": [],
   "source": [
    "import pandas as pd\n",
    "import numpy as np\n",
    "import matplotlib.pyplot as plt\n",
    "import seaborn as sns\n",
    "from sklearn.model_selection import train_test_split\n",
    "from sklearn.metrics import r2_score, mean_absolute_error, mean_squared_error, root_mean_squared_error\n",
    "from scipy.stats import shapiro\n",
    "from scipy.stats import spearmanr"
   ]
  },
  {
   "cell_type": "markdown",
   "id": "a6a7a5c9",
   "metadata": {},
   "source": [
    "# Reading data"
   ]
  },
  {
   "cell_type": "code",
   "execution_count": 3,
   "id": "245552a1",
   "metadata": {},
   "outputs": [],
   "source": [
    "product_detail = pd.read_csv(\"../input-files/product_details.csv\")\n",
    "store_info = pd.read_csv(\"../input-files/store_info.csv\")\n",
    "supplier_info = pd.read_csv(\"../input-files/supplier_info.csv\")\n",
    "weather_data = pd.read_csv(\"../input-files/weather_data.csv\")\n",
    "weekly_sales = pd.read_csv(\"../input-files/weekly_sales.csv\")"
   ]
  },
  {
   "cell_type": "markdown",
   "id": "1a1331c3",
   "metadata": {},
   "source": [
    "# Product Details"
   ]
  },
  {
   "cell_type": "code",
   "execution_count": 4,
   "id": "94169ac5",
   "metadata": {},
   "outputs": [
    {
     "data": {
      "text/html": [
       "<div>\n",
       "<style scoped>\n",
       "    .dataframe tbody tr th:only-of-type {\n",
       "        vertical-align: middle;\n",
       "    }\n",
       "\n",
       "    .dataframe tbody tr th {\n",
       "        vertical-align: top;\n",
       "    }\n",
       "\n",
       "    .dataframe thead th {\n",
       "        text-align: right;\n",
       "    }\n",
       "</style>\n",
       "<table border=\"1\" class=\"dataframe\">\n",
       "  <thead>\n",
       "    <tr style=\"text-align: right;\">\n",
       "      <th></th>\n",
       "      <th>Product_ID</th>\n",
       "      <th>Product_Name</th>\n",
       "      <th>Product_Category</th>\n",
       "      <th>Shelf_Life_Days</th>\n",
       "      <th>Supplier_ID</th>\n",
       "    </tr>\n",
       "  </thead>\n",
       "  <tbody>\n",
       "    <tr>\n",
       "      <th>0</th>\n",
       "      <td>1000</td>\n",
       "      <td>Whole Wheat Bread 800g</td>\n",
       "      <td>Bakery</td>\n",
       "      <td>4</td>\n",
       "      <td>4</td>\n",
       "    </tr>\n",
       "    <tr>\n",
       "      <th>1</th>\n",
       "      <td>1001</td>\n",
       "      <td>White Sandwich Loaf</td>\n",
       "      <td>Bakery</td>\n",
       "      <td>2</td>\n",
       "      <td>8</td>\n",
       "    </tr>\n",
       "    <tr>\n",
       "      <th>2</th>\n",
       "      <td>1002</td>\n",
       "      <td>Croissant 4-pack</td>\n",
       "      <td>Bakery</td>\n",
       "      <td>2</td>\n",
       "      <td>5</td>\n",
       "    </tr>\n",
       "    <tr>\n",
       "      <th>3</th>\n",
       "      <td>1003</td>\n",
       "      <td>Blueberry Muffins 6-pack</td>\n",
       "      <td>Bakery</td>\n",
       "      <td>4</td>\n",
       "      <td>10</td>\n",
       "    </tr>\n",
       "    <tr>\n",
       "      <th>4</th>\n",
       "      <td>1004</td>\n",
       "      <td>Chocolate Chip Cookies</td>\n",
       "      <td>Bakery</td>\n",
       "      <td>4</td>\n",
       "      <td>7</td>\n",
       "    </tr>\n",
       "  </tbody>\n",
       "</table>\n",
       "</div>"
      ],
      "text/plain": [
       "   Product_ID              Product_Name Product_Category  Shelf_Life_Days  \\\n",
       "0        1000    Whole Wheat Bread 800g           Bakery                4   \n",
       "1        1001       White Sandwich Loaf           Bakery                2   \n",
       "2        1002          Croissant 4-pack           Bakery                2   \n",
       "3        1003  Blueberry Muffins 6-pack           Bakery                4   \n",
       "4        1004    Chocolate Chip Cookies           Bakery                4   \n",
       "\n",
       "   Supplier_ID  \n",
       "0            4  \n",
       "1            8  \n",
       "2            5  \n",
       "3           10  \n",
       "4            7  "
      ]
     },
     "execution_count": 4,
     "metadata": {},
     "output_type": "execute_result"
    }
   ],
   "source": [
    "product_detail.head()"
   ]
  },
  {
   "cell_type": "markdown",
   "id": "dcc58be2",
   "metadata": {},
   "source": [
    "# Store Information"
   ]
  },
  {
   "cell_type": "code",
   "execution_count": 5,
   "id": "01ab80c7",
   "metadata": {},
   "outputs": [
    {
     "data": {
      "text/html": [
       "<div>\n",
       "<style scoped>\n",
       "    .dataframe tbody tr th:only-of-type {\n",
       "        vertical-align: middle;\n",
       "    }\n",
       "\n",
       "    .dataframe tbody tr th {\n",
       "        vertical-align: top;\n",
       "    }\n",
       "\n",
       "    .dataframe thead th {\n",
       "        text-align: right;\n",
       "    }\n",
       "</style>\n",
       "<table border=\"1\" class=\"dataframe\">\n",
       "  <thead>\n",
       "    <tr style=\"text-align: right;\">\n",
       "      <th></th>\n",
       "      <th>Store_ID</th>\n",
       "      <th>Region</th>\n",
       "      <th>Store_Size</th>\n",
       "      <th>Cold_Storage_Capacity</th>\n",
       "    </tr>\n",
       "  </thead>\n",
       "  <tbody>\n",
       "    <tr>\n",
       "      <th>0</th>\n",
       "      <td>500</td>\n",
       "      <td>London</td>\n",
       "      <td>12000</td>\n",
       "      <td>3788</td>\n",
       "    </tr>\n",
       "    <tr>\n",
       "      <th>1</th>\n",
       "      <td>501</td>\n",
       "      <td>Midlands</td>\n",
       "      <td>5000</td>\n",
       "      <td>1086</td>\n",
       "    </tr>\n",
       "    <tr>\n",
       "      <th>2</th>\n",
       "      <td>502</td>\n",
       "      <td>North East</td>\n",
       "      <td>4000</td>\n",
       "      <td>998</td>\n",
       "    </tr>\n",
       "    <tr>\n",
       "      <th>3</th>\n",
       "      <td>503</td>\n",
       "      <td>Midlands</td>\n",
       "      <td>5000</td>\n",
       "      <td>1243</td>\n",
       "    </tr>\n",
       "    <tr>\n",
       "      <th>4</th>\n",
       "      <td>504</td>\n",
       "      <td>London</td>\n",
       "      <td>10000</td>\n",
       "      <td>3330</td>\n",
       "    </tr>\n",
       "  </tbody>\n",
       "</table>\n",
       "</div>"
      ],
      "text/plain": [
       "   Store_ID      Region  Store_Size  Cold_Storage_Capacity\n",
       "0       500      London       12000                   3788\n",
       "1       501    Midlands        5000                   1086\n",
       "2       502  North East        4000                    998\n",
       "3       503    Midlands        5000                   1243\n",
       "4       504      London       10000                   3330"
      ]
     },
     "execution_count": 5,
     "metadata": {},
     "output_type": "execute_result"
    }
   ],
   "source": [
    "store_info.head()"
   ]
  },
  {
   "cell_type": "markdown",
   "id": "fc85be24",
   "metadata": {},
   "source": [
    "# Supplier Information"
   ]
  },
  {
   "cell_type": "code",
   "execution_count": 6,
   "id": "fde6db06",
   "metadata": {},
   "outputs": [
    {
     "data": {
      "text/html": [
       "<div>\n",
       "<style scoped>\n",
       "    .dataframe tbody tr th:only-of-type {\n",
       "        vertical-align: middle;\n",
       "    }\n",
       "\n",
       "    .dataframe tbody tr th {\n",
       "        vertical-align: top;\n",
       "    }\n",
       "\n",
       "    .dataframe thead th {\n",
       "        text-align: right;\n",
       "    }\n",
       "</style>\n",
       "<table border=\"1\" class=\"dataframe\">\n",
       "  <thead>\n",
       "    <tr style=\"text-align: right;\">\n",
       "      <th></th>\n",
       "      <th>Supplier_ID</th>\n",
       "      <th>Supplier_Name</th>\n",
       "      <th>Lead_Time_Days</th>\n",
       "      <th>Supply_Capacity</th>\n",
       "    </tr>\n",
       "  </thead>\n",
       "  <tbody>\n",
       "    <tr>\n",
       "      <th>0</th>\n",
       "      <td>1</td>\n",
       "      <td>FreshFoods UK Ltd.</td>\n",
       "      <td>1</td>\n",
       "      <td>68047</td>\n",
       "    </tr>\n",
       "    <tr>\n",
       "      <th>1</th>\n",
       "      <td>2</td>\n",
       "      <td>Quality Provisions Co.</td>\n",
       "      <td>2</td>\n",
       "      <td>35230</td>\n",
       "    </tr>\n",
       "    <tr>\n",
       "      <th>2</th>\n",
       "      <td>3</td>\n",
       "      <td>FarmDirect Suppliers Ltd.</td>\n",
       "      <td>2</td>\n",
       "      <td>71976</td>\n",
       "    </tr>\n",
       "    <tr>\n",
       "      <th>3</th>\n",
       "      <td>4</td>\n",
       "      <td>PremiumGoods Wholesale</td>\n",
       "      <td>3</td>\n",
       "      <td>48776</td>\n",
       "    </tr>\n",
       "    <tr>\n",
       "      <th>4</th>\n",
       "      <td>5</td>\n",
       "      <td>LocalHarvest Distributors</td>\n",
       "      <td>2</td>\n",
       "      <td>11306</td>\n",
       "    </tr>\n",
       "  </tbody>\n",
       "</table>\n",
       "</div>"
      ],
      "text/plain": [
       "   Supplier_ID              Supplier_Name  Lead_Time_Days  Supply_Capacity\n",
       "0            1         FreshFoods UK Ltd.               1            68047\n",
       "1            2     Quality Provisions Co.               2            35230\n",
       "2            3  FarmDirect Suppliers Ltd.               2            71976\n",
       "3            4     PremiumGoods Wholesale               3            48776\n",
       "4            5  LocalHarvest Distributors               2            11306"
      ]
     },
     "execution_count": 6,
     "metadata": {},
     "output_type": "execute_result"
    }
   ],
   "source": [
    "supplier_info.head()"
   ]
  },
  {
   "cell_type": "markdown",
   "id": "f3700ce3",
   "metadata": {},
   "source": [
    "# Weather Data"
   ]
  },
  {
   "cell_type": "code",
   "execution_count": 7,
   "id": "0089668b",
   "metadata": {},
   "outputs": [
    {
     "data": {
      "text/html": [
       "<div>\n",
       "<style scoped>\n",
       "    .dataframe tbody tr th:only-of-type {\n",
       "        vertical-align: middle;\n",
       "    }\n",
       "\n",
       "    .dataframe tbody tr th {\n",
       "        vertical-align: top;\n",
       "    }\n",
       "\n",
       "    .dataframe thead th {\n",
       "        text-align: right;\n",
       "    }\n",
       "</style>\n",
       "<table border=\"1\" class=\"dataframe\">\n",
       "  <thead>\n",
       "    <tr style=\"text-align: right;\">\n",
       "      <th></th>\n",
       "      <th>Week_Number</th>\n",
       "      <th>Region</th>\n",
       "      <th>Avg_Temperature</th>\n",
       "      <th>Rainfall</th>\n",
       "      <th>Holiday_Flag</th>\n",
       "    </tr>\n",
       "  </thead>\n",
       "  <tbody>\n",
       "    <tr>\n",
       "      <th>0</th>\n",
       "      <td>2024-W01</td>\n",
       "      <td>Midlands</td>\n",
       "      <td>7.4</td>\n",
       "      <td>32.1</td>\n",
       "      <td>0</td>\n",
       "    </tr>\n",
       "    <tr>\n",
       "      <th>1</th>\n",
       "      <td>2024-W01</td>\n",
       "      <td>South East</td>\n",
       "      <td>10.5</td>\n",
       "      <td>15.7</td>\n",
       "      <td>0</td>\n",
       "    </tr>\n",
       "    <tr>\n",
       "      <th>2</th>\n",
       "      <td>2024-W01</td>\n",
       "      <td>North West</td>\n",
       "      <td>6.8</td>\n",
       "      <td>28.5</td>\n",
       "      <td>1</td>\n",
       "    </tr>\n",
       "    <tr>\n",
       "      <th>3</th>\n",
       "      <td>2024-W01</td>\n",
       "      <td>London</td>\n",
       "      <td>9.9</td>\n",
       "      <td>23.0</td>\n",
       "      <td>1</td>\n",
       "    </tr>\n",
       "    <tr>\n",
       "      <th>4</th>\n",
       "      <td>2024-W01</td>\n",
       "      <td>South West</td>\n",
       "      <td>10.0</td>\n",
       "      <td>45.9</td>\n",
       "      <td>1</td>\n",
       "    </tr>\n",
       "  </tbody>\n",
       "</table>\n",
       "</div>"
      ],
      "text/plain": [
       "  Week_Number      Region  Avg_Temperature  Rainfall  Holiday_Flag\n",
       "0    2024-W01    Midlands              7.4      32.1             0\n",
       "1    2024-W01  South East             10.5      15.7             0\n",
       "2    2024-W01  North West              6.8      28.5             1\n",
       "3    2024-W01      London              9.9      23.0             1\n",
       "4    2024-W01  South West             10.0      45.9             1"
      ]
     },
     "execution_count": 7,
     "metadata": {},
     "output_type": "execute_result"
    }
   ],
   "source": [
    "weather_data.head()"
   ]
  },
  {
   "cell_type": "markdown",
   "id": "3f3b5dba",
   "metadata": {},
   "source": [
    "# Weekly Sales"
   ]
  },
  {
   "cell_type": "code",
   "execution_count": 8,
   "id": "c26cb914",
   "metadata": {},
   "outputs": [
    {
     "data": {
      "text/html": [
       "<div>\n",
       "<style scoped>\n",
       "    .dataframe tbody tr th:only-of-type {\n",
       "        vertical-align: middle;\n",
       "    }\n",
       "\n",
       "    .dataframe tbody tr th {\n",
       "        vertical-align: top;\n",
       "    }\n",
       "\n",
       "    .dataframe thead th {\n",
       "        text-align: right;\n",
       "    }\n",
       "</style>\n",
       "<table border=\"1\" class=\"dataframe\">\n",
       "  <thead>\n",
       "    <tr style=\"text-align: right;\">\n",
       "      <th></th>\n",
       "      <th>Week_Number</th>\n",
       "      <th>Product_ID</th>\n",
       "      <th>Store_ID</th>\n",
       "      <th>Units_Sold</th>\n",
       "      <th>Marketing_Spend</th>\n",
       "      <th>Discount_Percent</th>\n",
       "      <th>Wastage_Units</th>\n",
       "      <th>Price</th>\n",
       "    </tr>\n",
       "  </thead>\n",
       "  <tbody>\n",
       "    <tr>\n",
       "      <th>0</th>\n",
       "      <td>2024-W01</td>\n",
       "      <td>1000</td>\n",
       "      <td>500</td>\n",
       "      <td>4853</td>\n",
       "      <td>670.37</td>\n",
       "      <td>0</td>\n",
       "      <td>718</td>\n",
       "      <td>2.46</td>\n",
       "    </tr>\n",
       "    <tr>\n",
       "      <th>1</th>\n",
       "      <td>2024-W01</td>\n",
       "      <td>1001</td>\n",
       "      <td>500</td>\n",
       "      <td>4274</td>\n",
       "      <td>1089.62</td>\n",
       "      <td>0</td>\n",
       "      <td>641</td>\n",
       "      <td>1.27</td>\n",
       "    </tr>\n",
       "    <tr>\n",
       "      <th>2</th>\n",
       "      <td>2024-W01</td>\n",
       "      <td>1002</td>\n",
       "      <td>500</td>\n",
       "      <td>4215</td>\n",
       "      <td>1004.99</td>\n",
       "      <td>10</td>\n",
       "      <td>632</td>\n",
       "      <td>2.74</td>\n",
       "    </tr>\n",
       "    <tr>\n",
       "      <th>3</th>\n",
       "      <td>2024-W01</td>\n",
       "      <td>1003</td>\n",
       "      <td>500</td>\n",
       "      <td>5768</td>\n",
       "      <td>859.45</td>\n",
       "      <td>20</td>\n",
       "      <td>853</td>\n",
       "      <td>1.82</td>\n",
       "    </tr>\n",
       "    <tr>\n",
       "      <th>4</th>\n",
       "      <td>2024-W01</td>\n",
       "      <td>1004</td>\n",
       "      <td>500</td>\n",
       "      <td>3403</td>\n",
       "      <td>576.70</td>\n",
       "      <td>0</td>\n",
       "      <td>503</td>\n",
       "      <td>3.46</td>\n",
       "    </tr>\n",
       "  </tbody>\n",
       "</table>\n",
       "</div>"
      ],
      "text/plain": [
       "  Week_Number  Product_ID  Store_ID  Units_Sold  Marketing_Spend  \\\n",
       "0    2024-W01        1000       500        4853           670.37   \n",
       "1    2024-W01        1001       500        4274          1089.62   \n",
       "2    2024-W01        1002       500        4215          1004.99   \n",
       "3    2024-W01        1003       500        5768           859.45   \n",
       "4    2024-W01        1004       500        3403           576.70   \n",
       "\n",
       "   Discount_Percent  Wastage_Units  Price  \n",
       "0                 0            718   2.46  \n",
       "1                 0            641   1.27  \n",
       "2                10            632   2.74  \n",
       "3                20            853   1.82  \n",
       "4                 0            503   3.46  "
      ]
     },
     "execution_count": 8,
     "metadata": {},
     "output_type": "execute_result"
    }
   ],
   "source": [
    "weekly_sales.head()"
   ]
  },
  {
   "cell_type": "markdown",
   "id": "38a07e8c",
   "metadata": {},
   "source": [
    "# Exploratory Data Analysis"
   ]
  },
  {
   "cell_type": "code",
   "execution_count": 9,
   "id": "2011f951",
   "metadata": {},
   "outputs": [],
   "source": [
    "def EDA_Stage_1(data, name):\n",
    "  print(\"=\"*100)\n",
    "  print(f\"{name} dataset information\")\n",
    "  print(data.info())\n",
    "  print(\"=\"*100)\n",
    "  print(f\"{name} dataset description\")\n",
    "  print(data.describe())\n",
    "  print(\"=\"*100)\n",
    "  print(f\"{name} dataset shape\")\n",
    "  print(data.shape)\n",
    "  print(\"=\"*100)\n",
    "  print(f\"{name} dataset columns\")\n",
    "  print(data.columns)\n",
    "  print(\"=\"*100)\n",
    "  print(f\"{name} dataset null values\")\n",
    "  print(data.isna().sum())\n",
    "  print(\"=\"*100)\n",
    "  print(f\"{name} dataset duplicate values\")\n",
    "  print(data.duplicated().sum())\n",
    "  print(\"=\"*100)"
   ]
  },
  {
   "cell_type": "code",
   "execution_count": 10,
   "id": "53305171",
   "metadata": {},
   "outputs": [
    {
     "name": "stdout",
     "output_type": "stream",
     "text": [
      "====================================================================================================\n",
      "Product details dataset information\n",
      "<class 'pandas.core.frame.DataFrame'>\n",
      "RangeIndex: 48 entries, 0 to 47\n",
      "Data columns (total 5 columns):\n",
      " #   Column            Non-Null Count  Dtype \n",
      "---  ------            --------------  ----- \n",
      " 0   Product_ID        48 non-null     int64 \n",
      " 1   Product_Name      48 non-null     object\n",
      " 2   Product_Category  48 non-null     object\n",
      " 3   Shelf_Life_Days   48 non-null     int64 \n",
      " 4   Supplier_ID       48 non-null     int64 \n",
      "dtypes: int64(3), object(2)\n",
      "memory usage: 2.0+ KB\n",
      "None\n",
      "====================================================================================================\n",
      "Product details dataset description\n",
      "       Product_ID  Shelf_Life_Days  Supplier_ID\n",
      "count       48.00        48.000000    48.000000\n",
      "mean      1023.50        59.916667     5.958333\n",
      "std         14.00        99.226333     2.782608\n",
      "min       1000.00         2.000000     1.000000\n",
      "25%       1011.75         4.000000     4.000000\n",
      "50%       1023.50         7.500000     6.000000\n",
      "75%       1035.25        36.250000     8.000000\n",
      "max       1047.00       356.000000    10.000000\n",
      "====================================================================================================\n",
      "Product details dataset shape\n",
      "(48, 5)\n",
      "====================================================================================================\n",
      "Product details dataset columns\n",
      "Index(['Product_ID', 'Product_Name', 'Product_Category', 'Shelf_Life_Days',\n",
      "       'Supplier_ID'],\n",
      "      dtype='object')\n",
      "====================================================================================================\n",
      "Product details dataset null values\n",
      "Product_ID          0\n",
      "Product_Name        0\n",
      "Product_Category    0\n",
      "Shelf_Life_Days     0\n",
      "Supplier_ID         0\n",
      "dtype: int64\n",
      "====================================================================================================\n",
      "Product details dataset duplicate values\n",
      "0\n",
      "====================================================================================================\n"
     ]
    }
   ],
   "source": [
    "EDA_Stage_1(product_detail, \"Product details\")"
   ]
  },
  {
   "cell_type": "code",
   "execution_count": 11,
   "id": "4a8b6559",
   "metadata": {},
   "outputs": [
    {
     "name": "stdout",
     "output_type": "stream",
     "text": [
      "====================================================================================================\n",
      "Supplier Information dataset information\n",
      "<class 'pandas.core.frame.DataFrame'>\n",
      "RangeIndex: 10 entries, 0 to 9\n",
      "Data columns (total 4 columns):\n",
      " #   Column           Non-Null Count  Dtype \n",
      "---  ------           --------------  ----- \n",
      " 0   Supplier_ID      10 non-null     int64 \n",
      " 1   Supplier_Name    10 non-null     object\n",
      " 2   Lead_Time_Days   10 non-null     int64 \n",
      " 3   Supply_Capacity  10 non-null     int64 \n",
      "dtypes: int64(3), object(1)\n",
      "memory usage: 448.0+ bytes\n",
      "None\n",
      "====================================================================================================\n",
      "Supplier Information dataset description\n",
      "       Supplier_ID  Lead_Time_Days  Supply_Capacity\n",
      "count     10.00000       10.000000        10.000000\n",
      "mean       5.50000        2.200000     48161.200000\n",
      "std        3.02765        0.632456     18121.601841\n",
      "min        1.00000        1.000000     11306.000000\n",
      "25%        3.25000        2.000000     38162.250000\n",
      "50%        5.50000        2.000000     51262.000000\n",
      "75%        7.75000        2.750000     58185.500000\n",
      "max       10.00000        3.000000     71976.000000\n",
      "====================================================================================================\n",
      "Supplier Information dataset shape\n",
      "(10, 4)\n",
      "====================================================================================================\n",
      "Supplier Information dataset columns\n",
      "Index(['Supplier_ID', 'Supplier_Name', 'Lead_Time_Days', 'Supply_Capacity'], dtype='object')\n",
      "====================================================================================================\n",
      "Supplier Information dataset null values\n",
      "Supplier_ID        0\n",
      "Supplier_Name      0\n",
      "Lead_Time_Days     0\n",
      "Supply_Capacity    0\n",
      "dtype: int64\n",
      "====================================================================================================\n",
      "Supplier Information dataset duplicate values\n",
      "0\n",
      "====================================================================================================\n"
     ]
    }
   ],
   "source": [
    "EDA_Stage_1(supplier_info, \"Supplier Information\")"
   ]
  },
  {
   "cell_type": "code",
   "execution_count": 12,
   "id": "6cbb5b2f",
   "metadata": {},
   "outputs": [
    {
     "name": "stdout",
     "output_type": "stream",
     "text": [
      "====================================================================================================\n",
      "Store Information dataset information\n",
      "<class 'pandas.core.frame.DataFrame'>\n",
      "RangeIndex: 15 entries, 0 to 14\n",
      "Data columns (total 4 columns):\n",
      " #   Column                 Non-Null Count  Dtype \n",
      "---  ------                 --------------  ----- \n",
      " 0   Store_ID               15 non-null     int64 \n",
      " 1   Region                 15 non-null     object\n",
      " 2   Store_Size             15 non-null     int64 \n",
      " 3   Cold_Storage_Capacity  15 non-null     int64 \n",
      "dtypes: int64(3), object(1)\n",
      "memory usage: 608.0+ bytes\n",
      "None\n",
      "====================================================================================================\n",
      "Store Information dataset description\n",
      "         Store_ID    Store_Size  Cold_Storage_Capacity\n",
      "count   15.000000     15.000000              15.000000\n",
      "mean   507.000000   5333.333333            1527.066667\n",
      "std      4.472136   2894.987458             965.651628\n",
      "min    500.000000   3000.000000             634.000000\n",
      "25%    503.500000   3500.000000             999.500000\n",
      "50%    507.000000   4000.000000            1086.000000\n",
      "75%    510.500000   5000.000000            1509.500000\n",
      "max    514.000000  12000.000000            3788.000000\n",
      "====================================================================================================\n",
      "Store Information dataset shape\n",
      "(15, 4)\n",
      "====================================================================================================\n",
      "Store Information dataset columns\n",
      "Index(['Store_ID', 'Region', 'Store_Size', 'Cold_Storage_Capacity'], dtype='object')\n",
      "====================================================================================================\n",
      "Store Information dataset null values\n",
      "Store_ID                 0\n",
      "Region                   0\n",
      "Store_Size               0\n",
      "Cold_Storage_Capacity    0\n",
      "dtype: int64\n",
      "====================================================================================================\n",
      "Store Information dataset duplicate values\n",
      "0\n",
      "====================================================================================================\n"
     ]
    }
   ],
   "source": [
    "EDA_Stage_1(store_info, \"Store Information\")"
   ]
  },
  {
   "cell_type": "code",
   "execution_count": 13,
   "id": "8b170357",
   "metadata": {},
   "outputs": [
    {
     "name": "stdout",
     "output_type": "stream",
     "text": [
      "====================================================================================================\n",
      "Weather Data dataset information\n",
      "<class 'pandas.core.frame.DataFrame'>\n",
      "RangeIndex: 364 entries, 0 to 363\n",
      "Data columns (total 5 columns):\n",
      " #   Column           Non-Null Count  Dtype  \n",
      "---  ------           --------------  -----  \n",
      " 0   Week_Number      364 non-null    object \n",
      " 1   Region           364 non-null    object \n",
      " 2   Avg_Temperature  364 non-null    float64\n",
      " 3   Rainfall         364 non-null    float64\n",
      " 4   Holiday_Flag     364 non-null    int64  \n",
      "dtypes: float64(2), int64(1), object(2)\n",
      "memory usage: 14.3+ KB\n",
      "None\n",
      "====================================================================================================\n",
      "Weather Data dataset description\n",
      "       Avg_Temperature    Rainfall  Holiday_Flag\n",
      "count       364.000000  364.000000    364.000000\n",
      "mean         10.015110   20.847253      0.148352\n",
      "std           6.136098   10.459884      0.355937\n",
      "min          -2.000000    6.600000      0.000000\n",
      "25%           4.500000   12.550000      0.000000\n",
      "50%           9.700000   18.600000      0.000000\n",
      "75%          15.525000   27.825000      0.000000\n",
      "max          22.000000   58.300000      1.000000\n",
      "====================================================================================================\n",
      "Weather Data dataset shape\n",
      "(364, 5)\n",
      "====================================================================================================\n",
      "Weather Data dataset columns\n",
      "Index(['Week_Number', 'Region', 'Avg_Temperature', 'Rainfall', 'Holiday_Flag'], dtype='object')\n",
      "====================================================================================================\n",
      "Weather Data dataset null values\n",
      "Week_Number        0\n",
      "Region             0\n",
      "Avg_Temperature    0\n",
      "Rainfall           0\n",
      "Holiday_Flag       0\n",
      "dtype: int64\n",
      "====================================================================================================\n",
      "Weather Data dataset duplicate values\n",
      "0\n",
      "====================================================================================================\n"
     ]
    }
   ],
   "source": [
    "EDA_Stage_1(weather_data, \"Weather Data\")"
   ]
  },
  {
   "cell_type": "code",
   "execution_count": 14,
   "id": "3a6889bd",
   "metadata": {},
   "outputs": [
    {
     "name": "stdout",
     "output_type": "stream",
     "text": [
      "====================================================================================================\n",
      "Weekly Sales dataset information\n",
      "<class 'pandas.core.frame.DataFrame'>\n",
      "RangeIndex: 37440 entries, 0 to 37439\n",
      "Data columns (total 8 columns):\n",
      " #   Column            Non-Null Count  Dtype  \n",
      "---  ------            --------------  -----  \n",
      " 0   Week_Number       37440 non-null  object \n",
      " 1   Product_ID        37440 non-null  int64  \n",
      " 2   Store_ID          37440 non-null  int64  \n",
      " 3   Units_Sold        37440 non-null  int64  \n",
      " 4   Marketing_Spend   37440 non-null  float64\n",
      " 5   Discount_Percent  37440 non-null  int64  \n",
      " 6   Wastage_Units     37440 non-null  int64  \n",
      " 7   Price             37440 non-null  float64\n",
      "dtypes: float64(2), int64(5), object(1)\n",
      "memory usage: 2.3+ MB\n",
      "None\n",
      "====================================================================================================\n",
      "Weekly Sales dataset description\n",
      "         Product_ID      Store_ID    Units_Sold  Marketing_Spend  \\\n",
      "count  37440.000000  37440.000000  37440.000000     37440.000000   \n",
      "mean    1023.500000    507.000000   1642.154087       410.551195   \n",
      "std       13.853584      4.320551   1166.477872       239.093420   \n",
      "min     1000.000000    500.000000    194.000000       100.030000   \n",
      "25%     1011.750000    503.000000    799.000000       242.672500   \n",
      "50%     1023.500000    507.000000   1344.000000       348.630000   \n",
      "75%     1035.250000    511.000000   2131.000000       549.070000   \n",
      "max     1047.000000    514.000000  10413.000000      1972.700000   \n",
      "\n",
      "       Discount_Percent  Wastage_Units         Price  \n",
      "count      37440.000000   37440.000000  37440.000000  \n",
      "mean           2.896234     127.844284      4.162083  \n",
      "std            6.154093     130.960266      2.641350  \n",
      "min            0.000000       6.000000      0.420000  \n",
      "25%            0.000000      42.000000      2.160000  \n",
      "50%            0.000000      83.000000      3.480000  \n",
      "75%            0.000000     167.000000      5.560000  \n",
      "max           25.000000    1541.000000     12.000000  \n",
      "====================================================================================================\n",
      "Weekly Sales dataset shape\n",
      "(37440, 8)\n",
      "====================================================================================================\n",
      "Weekly Sales dataset columns\n",
      "Index(['Week_Number', 'Product_ID', 'Store_ID', 'Units_Sold',\n",
      "       'Marketing_Spend', 'Discount_Percent', 'Wastage_Units', 'Price'],\n",
      "      dtype='object')\n",
      "====================================================================================================\n",
      "Weekly Sales dataset null values\n",
      "Week_Number         0\n",
      "Product_ID          0\n",
      "Store_ID            0\n",
      "Units_Sold          0\n",
      "Marketing_Spend     0\n",
      "Discount_Percent    0\n",
      "Wastage_Units       0\n",
      "Price               0\n",
      "dtype: int64\n",
      "====================================================================================================\n",
      "Weekly Sales dataset duplicate values\n",
      "0\n",
      "====================================================================================================\n"
     ]
    }
   ],
   "source": [
    "EDA_Stage_1(weekly_sales, \"Weekly Sales\")"
   ]
  },
  {
   "cell_type": "markdown",
   "id": "c7389683",
   "metadata": {},
   "source": [
    "# Stage 2 EDA"
   ]
  },
  {
   "cell_type": "markdown",
   "id": "5a156012",
   "metadata": {},
   "source": [
    "## 1. Overall Business Performance"
   ]
  },
  {
   "cell_type": "code",
   "execution_count": 15,
   "id": "fd8fbb1a",
   "metadata": {},
   "outputs": [
    {
     "data": {
      "text/plain": [
       "Product_Category\n",
       "Bakery       12\n",
       "Meat         12\n",
       "Dairy        12\n",
       "Beverages    12\n",
       "Name: count, dtype: int64"
      ]
     },
     "execution_count": 15,
     "metadata": {},
     "output_type": "execute_result"
    }
   ],
   "source": [
    "product_detail['Product_Category'].value_counts()"
   ]
  },
  {
   "cell_type": "code",
   "execution_count": 16,
   "id": "1b0a0426",
   "metadata": {},
   "outputs": [
    {
     "name": "stdout",
     "output_type": "stream",
     "text": [
      "We have a total number of 48 products in this store\n",
      "We have the total number of 4 product categories in this store.\n"
     ]
    }
   ],
   "source": [
    "print(f\"We have a total number of {len(product_detail)} products in this store\")\n",
    "print(f\"We have the total number of { len(product_detail['Product_Category'].value_counts())} product categories in this store.\")"
   ]
  },
  {
   "cell_type": "code",
   "execution_count": 17,
   "id": "1c048a8f",
   "metadata": {},
   "outputs": [
    {
     "name": "stdout",
     "output_type": "stream",
     "text": [
      "The sales for 52 weeks is  37440\n",
      "The total number of unit sold in 364 days is 61,482,249\n",
      "The total number of units wasted/expired units in 364 days is 4,786,490\n",
      "The average number of units sold is 1642.15\n",
      "The average number of wasted units is 127.84\n",
      "The overall wastage rate is 7.79%\n"
     ]
    }
   ],
   "source": [
    "print(\"The sales for 52 weeks is \", len(weekly_sales))\n",
    "print(f\"The total number of unit sold in {len(weather_data)} days is {weekly_sales['Units_Sold'].sum():,}\")\n",
    "print(f\"The total number of units wasted/expired units in {len(weather_data)} days is {weekly_sales['Wastage_Units'].sum():,}\")\n",
    "print(f\"The average number of units sold is {weekly_sales['Units_Sold'].mean():.2f}\")\n",
    "print(f\"The average number of wasted units is {weekly_sales['Wastage_Units'].mean():.2f}\")\n",
    "print(f\"The overall wastage rate is {weekly_sales['Wastage_Units'].sum() / weekly_sales['Units_Sold'].sum() * 100:.2f}%\")"
   ]
  },
  {
   "cell_type": "markdown",
   "id": "732cbb69",
   "metadata": {},
   "source": [
    "## 2. Category Performance"
   ]
  },
  {
   "cell_type": "code",
   "execution_count": 18,
   "id": "c01478e3",
   "metadata": {},
   "outputs": [
    {
     "data": {
      "image/png": "[encoded data removed]",
      "text/plain": [
       "<Figure size 1500x1200 with 4 Axes>"
      ]
     },
     "metadata": {},
     "output_type": "display_data"
    }
   ],
   "source": [
    "plt.figure(figsize=(15, 12))\n",
    "\n",
    "# Merge Sales with Product Details\n",
    "sales_with_categories = weekly_sales.merge(product_detail, on='Product_ID')\n",
    "\n",
    "# Calculate metrics by category\n",
    "category_metrics = sales_with_categories.groupby('Product_Category').agg({\n",
    "    'Units_Sold': 'sum',\n",
    "    'Price': 'mean',\n",
    "    'Wastage_Units': 'mean',\n",
    "    'Marketing_Spend': 'mean'\n",
    "}).reset_index()\n",
    "\n",
    "plt.subplot(2,2,1)\n",
    "plt.bar(category_metrics['Product_Category'], category_metrics['Units_Sold'], color='lightblue')\n",
    "plt.title('Total Units Sold by Product Category', fontsize=14, fontweight='bold')\n",
    "plt.xlabel('Product Category')\n",
    "plt.ylabel('Total Units Sold')\n",
    "plt.xticks(rotation=45)\n",
    "\n",
    "\n",
    "plt.subplot(2,2,2)\n",
    "plt.bar(category_metrics['Product_Category'], category_metrics['Wastage_Units'], color='salmon')\n",
    "plt.title('Total Wastage Units by Category', fontsize=14, fontweight='bold')\n",
    "plt.xlabel('Product Category')\n",
    "plt.ylabel('Wastage Units')\n",
    "plt.xticks(rotation=45)\n",
    "\n",
    "plt.subplot(2,2,3)\n",
    "# Wastage Rate calculation\n",
    "category_metrics['Wastage_Rate'] = category_metrics['Wastage_Units'] / category_metrics['Units_Sold'] * 100\n",
    "plt.bar(category_metrics['Product_Category'], category_metrics['Wastage_Rate'], color='orange')\n",
    "plt.title('Wastage Rate by Product Category (%)', fontsize=14, fontweight='bold')\n",
    "plt.xlabel('Product Category')\n",
    "plt.ylabel('Wastage Rate (%)')\n",
    "plt.xticks(rotation=45)\n",
    "\n",
    "\n",
    "# Average marketing funds spent on each product category\n",
    "plt.subplot(2,2,4)\n",
    "plt.bar(category_metrics['Product_Category'], category_metrics['Marketing_Spend'], color='lightgreen')\n",
    "plt.title('Average Marketing Spend by Category', fontsize=14, fontweight='bold')\n",
    "plt.xlabel('Product Category')\n",
    "plt.ylabel('Average Marketing Spend (£)')\n",
    "plt.xticks(rotation=45)\n",
    "\n",
    "plt.tight_layout()\n",
    "plt.show()"
   ]
  },
  {
   "cell_type": "markdown",
   "id": "f0fea729",
   "metadata": {},
   "source": [
    "## 3. Regional Performance"
   ]
  },
  {
   "cell_type": "code",
   "execution_count": 19,
   "id": "800d220b",
   "metadata": {},
   "outputs": [
    {
     "data": {
      "image/png": "[encoded data removed]",
      "text/plain": [
       "<Figure size 1500x1200 with 4 Axes>"
      ]
     },
     "metadata": {},
     "output_type": "display_data"
    }
   ],
   "source": [
    "plt.figure(figsize=(15,12))\n",
    "\n",
    "# Total number of Stores per region\n",
    "plt.subplot(2, 2, 1)\n",
    "region_store_counts = store_info['Region'].value_counts()\n",
    "sns.barplot(x=region_store_counts.index, y=region_store_counts.values)\n",
    "plt.title('Number of Stores per Region')\n",
    "plt.xlabel('Region')\n",
    "plt.ylabel('Number of Stores')\n",
    "\n",
    "# Average Store Size per Region\n",
    "plt.subplot(2, 2, 2)\n",
    "store_size_by_region = store_info.groupby('Region')['Store_Size'].mean()\n",
    "sns.barplot(x=store_size_by_region.index, y=store_size_by_region.values)\n",
    "plt.title('Average Store Size by Region')\n",
    "plt.xlabel('Region')\n",
    "plt.ylabel('Average Store Size')\n",
    "\n",
    "# Sales Performance per Region\n",
    "plt.subplot(2, 2, 3)\n",
    "region_sales = weekly_sales.merge(store_info, on='Store_ID')\n",
    "store_region_performance = region_sales.groupby('Region')['Units_Sold'].sum().sort_values(ascending=False)\n",
    "sns.barplot(x=store_region_performance.index, y=store_region_performance.values)\n",
    "plt.title('Sales Performance by Region')\n",
    "plt.xlabel('Region')\n",
    "\n",
    "\n",
    "# Wastage Rate per Region\n",
    "plt.subplot(2, 2, 4)\n",
    "goods_wastage_per_region =  region_sales.groupby('Region')['Wastage_Units'].sum().sort_values(ascending=False)\n",
    "sns.barplot(x=goods_wastage_per_region.index, y=goods_wastage_per_region.values)\n",
    "plt.title('Wastage Rate by Region')\n",
    "plt.xlabel('Region')\n",
    "plt.ylabel('Wastage Rate')\n",
    "\n",
    "plt.tight_layout()\n",
    "plt.show()"
   ]
  },
  {
   "cell_type": "code",
   "execution_count": 20,
   "id": "bec0804c",
   "metadata": {},
   "outputs": [
    {
     "data": {
      "image/png": "[encoded data removed]",
      "text/plain": [
       "<Figure size 1500x1200 with 1 Axes>"
      ]
     },
     "metadata": {},
     "output_type": "display_data"
    }
   ],
   "source": [
    "# Sales Per Square Foot\n",
    "plt.figure(figsize=(15,12))\n",
    "plt.subplot(2, 2, 1)\n",
    "region_totals = region_sales.groupby('Region').agg({\n",
    "    'Units_Sold': 'sum',\n",
    "    'Store_Size': 'sum'\n",
    "}).reset_index()\n",
    "\n",
    "region_totals['Sales_Per_Square_Foot'] = region_totals['Units_Sold'] / region_totals['Store_Size']\n",
    "sns.barplot(x=region_totals['Region'], y=region_totals['Sales_Per_Square_Foot'])\n",
    "plt.title('Sales Per Square Foot by Region')\n",
    "plt.xlabel('Region')\n",
    "plt.ylabel('Sales Per Square Foot')\n",
    "\n",
    "plt.tight_layout()\n",
    "plt.show()"
   ]
  },
  {
   "cell_type": "markdown",
   "id": "d524c5e9",
   "metadata": {},
   "source": [
    "# 4. Pricing Strategy Analysis"
   ]
  },
  {
   "cell_type": "code",
   "execution_count": 21,
   "id": "70356b21",
   "metadata": {},
   "outputs": [
    {
     "data": {
      "image/png": "[encoded data removed]",
      "text/plain": [
       "<Figure size 640x480 with 1 Axes>"
      ]
     },
     "metadata": {},
     "output_type": "display_data"
    }
   ],
   "source": [
    "# Segment products into 3 price bands: budget (<5), mid (5-10), premium (>=10)\n",
    "region_sales['Price_Band'] = pd.cut(region_sales['Price'], bins=[-np.inf, 5, 10, np.inf], labels=['Budget', 'Mid', 'Premium'])\n",
    "plt.pie(region_sales['Price_Band'].value_counts(), labels=region_sales['Price_Band'].value_counts().index, autopct='%1.1f%%')\n",
    "plt.title('Pricing Strategy Analysis')\n",
    "plt.show()"
   ]
  },
  {
   "cell_type": "markdown",
   "id": "626d1948",
   "metadata": {},
   "source": [
    "## 5. Promotion Effectiveness (Discount Performance)"
   ]
  },
  {
   "cell_type": "code",
   "execution_count": 22,
   "id": "6c01a35f",
   "metadata": {},
   "outputs": [
    {
     "name": "stderr",
     "output_type": "stream",
     "text": [
      "C:\\Users\\hilla.HILLARY\\AppData\\Local\\Temp\\ipykernel_10100\\415526445.py:7: FutureWarning: \n",
      "\n",
      "Passing `palette` without assigning `hue` is deprecated and will be removed in v0.14.0. Assign the `x` variable to `hue` and set `legend=False` for the same effect.\n",
      "\n",
      "  sns.barplot(x=price_per_product_category.index, y=price_per_product_category.values, palette=['blue', 'green', 'yellow', 'red'])\n"
     ]
    },
    {
     "data": {
      "text/plain": [
       "([<matplotlib.axis.XTick at 0x294ba81a9b0>,\n",
       "  <matplotlib.axis.XTick at 0x294ba81ab30>,\n",
       "  <matplotlib.axis.XTick at 0x294bc939b70>,\n",
       "  <matplotlib.axis.XTick at 0x294bc93bdf0>,\n",
       "  <matplotlib.axis.XTick at 0x294bc938eb0>,\n",
       "  <matplotlib.axis.XTick at 0x294ba7f1570>],\n",
       " [Text(0, 0, '0'),\n",
       "  Text(1, 0, '5'),\n",
       "  Text(2, 0, '10'),\n",
       "  Text(3, 0, '15'),\n",
       "  Text(4, 0, '20'),\n",
       "  Text(5, 0, '25')])"
      ]
     },
     "execution_count": 22,
     "metadata": {},
     "output_type": "execute_result"
    },
    {
     "data": {
      "image/png": "[encoded data removed]",
      "text/plain": [
       "<Figure size 1700x1500 with 2 Axes>"
      ]
     },
     "metadata": {},
     "output_type": "display_data"
    }
   ],
   "source": [
    "plt.figure(figsize=(17,15))\n",
    "\n",
    "plt.subplot(2, 2, 1)\n",
    "# Average Price per Product Across All Categories\n",
    "category_price = weekly_sales.merge(product_detail, on='Product_ID')\n",
    "price_per_product_category = category_price.groupby('Product_Category')['Price'].mean()\n",
    "sns.barplot(x=price_per_product_category.index, y=price_per_product_category.values, palette=['blue', 'green', 'yellow', 'red'])\n",
    "plt.title('Average Price per Product Across All Categories')\n",
    "plt.xlabel('Product Category')\n",
    "plt.ylabel('Average Price (£)')\n",
    "plt.xticks(rotation=45)\n",
    "\n",
    "for i, (cat, val) in enumerate(zip(price_per_product_category.index, price_per_product_category.values)):\n",
    "    plt.text(i, val + 0.2, f'£{val:.2f}', ha='center', va='bottom', fontweight=\"bold\", fontsize=9)\n",
    "\n",
    "\n",
    "# Discount Performance\n",
    "# We are trying to ge how the sales perform by each discount percentage\n",
    "# in this plot we used aggregation, why is the aggregate used\n",
    "plt.subplot(2, 2, 2)\n",
    "discount_performance = weekly_sales.groupby('Discount_Percent').agg({\n",
    "    'Units_Sold': 'mean',\n",
    "    'Wastage_Units': 'mean'\n",
    "}).reset_index()\n",
    "\n",
    "x = np.arange(len(discount_performance))\n",
    "width = 0.35\n",
    "\n",
    "bars1 = plt.bar(x - width/2, discount_performance['Units_Sold'], width, label='Units Sold')\n",
    "bars2 = plt.bar(x + width/2, discount_performance['Wastage_Units'], width, label='Wastage Units')\n",
    "\n",
    "plt.title('Discount Performance')\n",
    "plt.xlabel('Discount Percent')\n",
    "plt.ylabel('Average Units Sold')\n",
    "plt.xticks(x, discount_performance['Discount_Percent'])"
   ]
  },
  {
   "cell_type": "code",
   "execution_count": 23,
   "id": "580e7cb2",
   "metadata": {},
   "outputs": [
    {
     "name": "stdout",
     "output_type": "stream",
     "text": [
      "Units Sold with 25% Discount: 2060812\n",
      "Units Sold with No Discount: 45269818\n",
      "Sales Lift at 25% Discount: -95.45%\n"
     ]
    }
   ],
   "source": [
    "# Compare sales at the best discount vs. no discount, and calculate the percentage sales lift\n",
    "discount_sales = weekly_sales[weekly_sales['Discount_Percent'] == 25]\n",
    "no_discount_sales = weekly_sales[weekly_sales['Discount_Percent'] == 0]\n",
    "\n",
    "discount_units_sold = discount_sales['Units_Sold'].sum()\n",
    "no_discount_units_sold = no_discount_sales['Units_Sold'].sum()\n",
    "\n",
    "# Calculate percentage lift\n",
    "sales_lift = ((discount_units_sold - no_discount_units_sold) / no_discount_units_sold) * 100\n",
    "\n",
    "print(f\"Units Sold with 25% Discount: {discount_units_sold}\")\n",
    "print(f\"Units Sold with No Discount: {no_discount_units_sold}\")\n",
    "print(f\"Sales Lift at 25% Discount: {sales_lift:.2f}%\")"
   ]
  },
  {
   "cell_type": "markdown",
   "id": "7e0d5416",
   "metadata": {},
   "source": [
    "## 6. Marketing Spend Effectiveness "
   ]
  },
  {
   "cell_type": "markdown",
   "id": "d44007fe",
   "metadata": {},
   "source": [
    "### Correlation between marketing spend and sales\n",
    "\n",
    "H0: There is no difference between the distribution of Marketing Spend with that of a normal distribution.\n",
    "\n",
    "H1: There is a difference between the distribution of Marketing Spend with that of a normal distribution."
   ]
  },
  {
   "cell_type": "code",
   "execution_count": 24,
   "id": "754dc045",
   "metadata": {},
   "outputs": [
    {
     "name": "stdout",
     "output_type": "stream",
     "text": [
      "Marketing Spend Shapiro-Wilk Statistic: 0.7331\n",
      "Marketing Spend P-value: 0.0265\n"
     ]
    }
   ],
   "source": [
    "# Perform Shapiro-Wilk test\n",
    "marketing_spend_statistic, marketing_spend_p_value = shapiro(category_metrics[\"Marketing_Spend\"])\n",
    "\n",
    "print(f\"Marketing Spend Shapiro-Wilk Statistic: {marketing_spend_statistic:.4f}\")\n",
    "print(f\"Marketing Spend P-value: {marketing_spend_p_value:.4f}\")\n"
   ]
  },
  {
   "cell_type": "markdown",
   "id": "e2fdcbee",
   "metadata": {},
   "source": [
    "Looking at the p-value, which is less than the significant 5%(0.05), the null hypothesis is rejected, therefore this suggests that there is sufficient evidence to suggest that there is a difference between Marketing Spend and that of a normal distribution."
   ]
  },
  {
   "cell_type": "markdown",
   "id": "a6927eb4",
   "metadata": {},
   "source": [
    "H0: There is no difference between the distribution of Units Sold with that of a normal distribution.\n",
    "\n",
    "H1: There is a difference between the distribution of Units Sold with that of a normal distribution."
   ]
  },
  {
   "cell_type": "code",
   "execution_count": 25,
   "id": "68922103",
   "metadata": {},
   "outputs": [
    {
     "name": "stdout",
     "output_type": "stream",
     "text": [
      "Units Sold Shapiro-Wilk Statistic: 0.9921\n",
      "Units Sold P-value: 0.9679\n"
     ]
    }
   ],
   "source": [
    "# Perform Shapiro-Wilk test\n",
    "units_sold_statistic, units_sold_p_value = shapiro(category_metrics[\"Units_Sold\"])\n",
    "\n",
    "print(f\"Units Sold Shapiro-Wilk Statistic: {units_sold_statistic:.4f}\")\n",
    "print(f\"Units Sold P-value: {units_sold_p_value:.4f}\")"
   ]
  },
  {
   "cell_type": "markdown",
   "id": "228da9a3",
   "metadata": {},
   "source": [
    "Looking at the p-value which is greater than the significant 5% (0.05) the null hypothesis is accepted and there is enough evidence to suggest that there is no difference between the units sold and that of a normal distribution."
   ]
  },
  {
   "cell_type": "markdown",
   "id": "e59ca8b1",
   "metadata": {},
   "source": [
    "Identifying that the Unit_Sold variable is normally distributed while the Marketing Spend is not, therefore I will proceed with the Spearman Correlation Co-efficient."
   ]
  },
  {
   "cell_type": "markdown",
   "id": "2623bc6c",
   "metadata": {},
   "source": [
    "H0: There is no linear relationship between Marketing_Spend and Units_Sold.\n",
    "\n",
    "H1: There is a linear relationship between Marketing_Spend and Units_Sold."
   ]
  },
  {
   "cell_type": "code",
   "execution_count": 26,
   "id": "c4b0b5fe",
   "metadata": {},
   "outputs": [
    {
     "name": "stdout",
     "output_type": "stream",
     "text": [
      "Spearman Correlation Coefficient: 0.4000\n",
      "P-value: 0.6000\n"
     ]
    }
   ],
   "source": [
    "# Perform Spearman Correlation Co-efficient between Marketing_Spend and Units_Sold\n",
    "\n",
    "correlation, pvalue = spearmanr(category_metrics['Marketing_Spend'], category_metrics['Units_Sold'])\n",
    "\n",
    "print(f\"Spearman Correlation Coefficient: {correlation:.4f}\")\n",
    "print(f\"P-value: {pvalue:.4f}\")"
   ]
  },
  {
   "cell_type": "markdown",
   "id": "17b26013",
   "metadata": {},
   "source": [
    "Looking at the p-value, which is more than the significant 5% (0.05), it is clear that the null hypothesis should not be rejected. There is sufficient evidence to suggest than there is no linear relationship between Marketing Spend Units and Units Sold."
   ]
  },
  {
   "cell_type": "code",
   "execution_count": 27,
   "id": "b8bda80d",
   "metadata": {},
   "outputs": [
    {
     "name": "stdout",
     "output_type": "stream",
     "text": [
      "The average marketing cost per unit sold is £410.55\n"
     ]
    }
   ],
   "source": [
    "# Average marketing cost per unit sold\n",
    "print(f\"The average marketing cost per unit sold is £{category_metrics['Marketing_Spend'].mean():.2f}\")"
   ]
  },
  {
   "cell_type": "markdown",
   "id": "69a2a278",
   "metadata": {},
   "source": [
    "## 7. Product Perfomance"
   ]
  },
  {
   "cell_type": "code",
   "execution_count": 28,
   "id": "4adf07fa",
   "metadata": {},
   "outputs": [
    {
     "name": "stdout",
     "output_type": "stream",
     "text": [
      "Top 5 best selling products\n",
      "Product_ID\n",
      "1031    2093430\n",
      "1030    2070145\n",
      "1033    2053001\n",
      "1029    2049192\n",
      "1034    2046517\n",
      "Name: Units_Sold, dtype: int64\n",
      "====================================================================================================\n",
      "29    Free Range Eggs 12-pack\n",
      "30        Cottage Cheese 300g\n",
      "31            Mozzarella 250g\n",
      "33         Single Cream 300ml\n",
      "34       Yogurt Drinks 6-pack\n",
      "Name: Product_Name, dtype: object\n"
     ]
    }
   ],
   "source": [
    "# Top 5 best selling products\n",
    "print(\"Top 5 best selling products\")\n",
    "\n",
    "top_5_best_selling_products = category_price.groupby('Product_ID')['Units_Sold'].sum().sort_values(ascending=False).head(5)\n",
    "print(top_5_best_selling_products)\n",
    "print('='*100)\n",
    "\n",
    "# Get Product Names of the best selling products\n",
    "top_5_best_selling_products_names = product_detail.loc[product_detail['Product_ID'].isin(top_5_best_selling_products.index), 'Product_Name']\n",
    "print(top_5_best_selling_products_names)"
   ]
  },
  {
   "cell_type": "code",
   "execution_count": 29,
   "id": "a168ac4c",
   "metadata": {},
   "outputs": [],
   "source": [
    "# Generate revenue variable Price * (1-discount/100) * Units Sold\n",
    "category_price['Revenue'] = category_price['Price'] * category_price['Units_Sold'] - category_price['Marketing_Spend']"
   ]
  },
  {
   "cell_type": "code",
   "execution_count": 30,
   "id": "33fb466e",
   "metadata": {},
   "outputs": [
    {
     "name": "stdout",
     "output_type": "stream",
     "text": [
      "Top 5 best revenue generating products\n",
      "Product_ID\n",
      "1031    5711926.03\n",
      "1034    5568411.50\n",
      "1028    5555663.81\n",
      "1024    5550544.18\n",
      "1025    5543777.32\n",
      "Name: Revenue, dtype: float64\n",
      "====================================================================================================\n",
      "24           Whole Milk 4-pint\n",
      "25    Semi-Skimmed Milk 4-pint\n",
      "28                 Butter 250g\n",
      "31             Mozzarella 250g\n",
      "34        Yogurt Drinks 6-pack\n",
      "Name: Product_Name, dtype: object\n"
     ]
    }
   ],
   "source": [
    "# Identify top 5 revenue generating products\n",
    "top_5_best_revenue_generating_products = category_price.groupby('Product_ID')['Revenue'].sum().sort_values(ascending=False).head(5)\n",
    "print(\"Top 5 best revenue generating products\")\n",
    "print(top_5_best_revenue_generating_products)\n",
    "print('='*100)\n",
    "\n",
    "# Get Product Names of the best revenue generating products\n",
    "top_5_best_revenue_generating_products = product_detail.loc[product_detail['Product_ID'].isin(top_5_best_revenue_generating_products.index), 'Product_Name']\n",
    "print(top_5_best_revenue_generating_products)\n"
   ]
  },
  {
   "cell_type": "code",
   "execution_count": 31,
   "id": "0d6b7f05",
   "metadata": {},
   "outputs": [
    {
     "name": "stdout",
     "output_type": "stream",
     "text": [
      "Top 5 highest-wastage products with >1000 units sold\n",
      "Product_ID\n",
      "1001    218163\n",
      "1002    215441\n",
      "1011    215044\n",
      "1009    211380\n",
      "1006    207928\n",
      "Name: Wastage_Units, dtype: int64\n",
      "====================================================================================================\n",
      "1       White Sandwich Loaf\n",
      "2          Croissant 4-pack\n",
      "6     Cinnamon Rolls 4-pack\n",
      "9         Banana Bread Loaf\n",
      "11            Donuts 8-pack\n",
      "Name: Product_Name, dtype: object\n"
     ]
    }
   ],
   "source": [
    "# Top 5 highest-wastage products with >1000 units sold\n",
    "top_5_highest_wastage_products = category_price[category_price['Units_Sold'] > 1000].groupby('Product_ID')['Wastage_Units'].sum().sort_values(ascending=False).head(5)\n",
    "print(\"Top 5 highest-wastage products with >1000 units sold\")\n",
    "print(top_5_highest_wastage_products)\n",
    "print('='*100)\n",
    "\n",
    "# Get Product Names of the highest wastage products\n",
    "top_5_highest_wastage_products_names = product_detail.loc[product_detail['Product_ID'].isin(top_5_highest_wastage_products.index), 'Product_Name']\n",
    "print(top_5_highest_wastage_products_names)"
   ]
  },
  {
   "cell_type": "code",
   "execution_count": 32,
   "id": "37399719",
   "metadata": {},
   "outputs": [
    {
     "name": "stdout",
     "output_type": "stream",
     "text": [
      "Top 5 highest-wastage products with >1000 units sold\n",
      "Product_ID\n",
      "1001    218163\n",
      "1002    215441\n",
      "1011    215044\n",
      "1009    211380\n",
      "1006    207928\n",
      "Name: Wastage_Units, dtype: int64\n",
      "====================================================================================================\n",
      "1       White Sandwich Loaf\n",
      "2          Croissant 4-pack\n",
      "6     Cinnamon Rolls 4-pack\n",
      "9         Banana Bread Loaf\n",
      "11            Donuts 8-pack\n",
      "Name: Product_Name, dtype: object\n"
     ]
    }
   ],
   "source": [
    "# Top 5 highest-wastage products with >1000 units sold\n",
    "top_5_highest_wastage_products = category_price[category_price['Units_Sold'] > 1000].groupby('Product_ID')['Wastage_Units'].sum().sort_values(ascending=False).head(5)\n",
    "print(\"Top 5 highest-wastage products with >1000 units sold\")\n",
    "print(top_5_highest_wastage_products)\n",
    "print('='*100)\n",
    "\n",
    "# Get Product Names of the highest wastage products\n",
    "top_5_highest_wastage_products_names = product_detail.loc[product_detail['Product_ID'].isin(top_5_highest_wastage_products.index), 'Product_Name']\n",
    "print(top_5_highest_wastage_products_names)"
   ]
  },
  {
   "cell_type": "markdown",
   "id": "51f8e374",
   "metadata": {},
   "source": [
    "## 8. Seasonal Trends"
   ]
  },
  {
   "cell_type": "code",
   "execution_count": 33,
   "id": "88086bf5",
   "metadata": {},
   "outputs": [
    {
     "data": {
      "text/html": [
       "<div>\n",
       "<style scoped>\n",
       "    .dataframe tbody tr th:only-of-type {\n",
       "        vertical-align: middle;\n",
       "    }\n",
       "\n",
       "    .dataframe tbody tr th {\n",
       "        vertical-align: top;\n",
       "    }\n",
       "\n",
       "    .dataframe thead th {\n",
       "        text-align: right;\n",
       "    }\n",
       "</style>\n",
       "<table border=\"1\" class=\"dataframe\">\n",
       "  <thead>\n",
       "    <tr style=\"text-align: right;\">\n",
       "      <th></th>\n",
       "      <th>Week_Number</th>\n",
       "      <th>Product_ID</th>\n",
       "      <th>Store_ID</th>\n",
       "      <th>Units_Sold</th>\n",
       "      <th>Marketing_Spend</th>\n",
       "      <th>Discount_Percent</th>\n",
       "      <th>Wastage_Units</th>\n",
       "      <th>Price</th>\n",
       "      <th>Product_Name</th>\n",
       "      <th>Product_Category</th>\n",
       "      <th>Shelf_Life_Days</th>\n",
       "      <th>Supplier_ID</th>\n",
       "      <th>Revenue</th>\n",
       "    </tr>\n",
       "  </thead>\n",
       "  <tbody>\n",
       "    <tr>\n",
       "      <th>0</th>\n",
       "      <td>2024-W01</td>\n",
       "      <td>1000</td>\n",
       "      <td>500</td>\n",
       "      <td>4853</td>\n",
       "      <td>670.37</td>\n",
       "      <td>0</td>\n",
       "      <td>718</td>\n",
       "      <td>2.46</td>\n",
       "      <td>Whole Wheat Bread 800g</td>\n",
       "      <td>Bakery</td>\n",
       "      <td>4</td>\n",
       "      <td>4</td>\n",
       "      <td>11268.01</td>\n",
       "    </tr>\n",
       "    <tr>\n",
       "      <th>1</th>\n",
       "      <td>2024-W01</td>\n",
       "      <td>1001</td>\n",
       "      <td>500</td>\n",
       "      <td>4274</td>\n",
       "      <td>1089.62</td>\n",
       "      <td>0</td>\n",
       "      <td>641</td>\n",
       "      <td>1.27</td>\n",
       "      <td>White Sandwich Loaf</td>\n",
       "      <td>Bakery</td>\n",
       "      <td>2</td>\n",
       "      <td>8</td>\n",
       "      <td>4338.36</td>\n",
       "    </tr>\n",
       "    <tr>\n",
       "      <th>2</th>\n",
       "      <td>2024-W01</td>\n",
       "      <td>1002</td>\n",
       "      <td>500</td>\n",
       "      <td>4215</td>\n",
       "      <td>1004.99</td>\n",
       "      <td>10</td>\n",
       "      <td>632</td>\n",
       "      <td>2.74</td>\n",
       "      <td>Croissant 4-pack</td>\n",
       "      <td>Bakery</td>\n",
       "      <td>2</td>\n",
       "      <td>5</td>\n",
       "      <td>10544.11</td>\n",
       "    </tr>\n",
       "    <tr>\n",
       "      <th>3</th>\n",
       "      <td>2024-W01</td>\n",
       "      <td>1003</td>\n",
       "      <td>500</td>\n",
       "      <td>5768</td>\n",
       "      <td>859.45</td>\n",
       "      <td>20</td>\n",
       "      <td>853</td>\n",
       "      <td>1.82</td>\n",
       "      <td>Blueberry Muffins 6-pack</td>\n",
       "      <td>Bakery</td>\n",
       "      <td>4</td>\n",
       "      <td>10</td>\n",
       "      <td>9638.31</td>\n",
       "    </tr>\n",
       "    <tr>\n",
       "      <th>4</th>\n",
       "      <td>2024-W01</td>\n",
       "      <td>1004</td>\n",
       "      <td>500</td>\n",
       "      <td>3403</td>\n",
       "      <td>576.70</td>\n",
       "      <td>0</td>\n",
       "      <td>503</td>\n",
       "      <td>3.46</td>\n",
       "      <td>Chocolate Chip Cookies</td>\n",
       "      <td>Bakery</td>\n",
       "      <td>4</td>\n",
       "      <td>7</td>\n",
       "      <td>11197.68</td>\n",
       "    </tr>\n",
       "    <tr>\n",
       "      <th>...</th>\n",
       "      <td>...</td>\n",
       "      <td>...</td>\n",
       "      <td>...</td>\n",
       "      <td>...</td>\n",
       "      <td>...</td>\n",
       "      <td>...</td>\n",
       "      <td>...</td>\n",
       "      <td>...</td>\n",
       "      <td>...</td>\n",
       "      <td>...</td>\n",
       "      <td>...</td>\n",
       "      <td>...</td>\n",
       "      <td>...</td>\n",
       "    </tr>\n",
       "    <tr>\n",
       "      <th>37435</th>\n",
       "      <td>2024-W52</td>\n",
       "      <td>1043</td>\n",
       "      <td>514</td>\n",
       "      <td>895</td>\n",
       "      <td>488.97</td>\n",
       "      <td>15</td>\n",
       "      <td>22</td>\n",
       "      <td>1.62</td>\n",
       "      <td>English Breakfast Tea 80bags</td>\n",
       "      <td>Beverages</td>\n",
       "      <td>246</td>\n",
       "      <td>9</td>\n",
       "      <td>960.93</td>\n",
       "    </tr>\n",
       "    <tr>\n",
       "      <th>37436</th>\n",
       "      <td>2024-W52</td>\n",
       "      <td>1044</td>\n",
       "      <td>514</td>\n",
       "      <td>1558</td>\n",
       "      <td>657.76</td>\n",
       "      <td>10</td>\n",
       "      <td>38</td>\n",
       "      <td>5.05</td>\n",
       "      <td>Sparkling Water 1L</td>\n",
       "      <td>Beverages</td>\n",
       "      <td>186</td>\n",
       "      <td>1</td>\n",
       "      <td>7210.14</td>\n",
       "    </tr>\n",
       "    <tr>\n",
       "      <th>37437</th>\n",
       "      <td>2024-W52</td>\n",
       "      <td>1045</td>\n",
       "      <td>514</td>\n",
       "      <td>993</td>\n",
       "      <td>442.56</td>\n",
       "      <td>0</td>\n",
       "      <td>24</td>\n",
       "      <td>5.72</td>\n",
       "      <td>Lemonade 2L</td>\n",
       "      <td>Beverages</td>\n",
       "      <td>356</td>\n",
       "      <td>9</td>\n",
       "      <td>5237.40</td>\n",
       "    </tr>\n",
       "    <tr>\n",
       "      <th>37438</th>\n",
       "      <td>2024-W52</td>\n",
       "      <td>1046</td>\n",
       "      <td>514</td>\n",
       "      <td>2168</td>\n",
       "      <td>1502.52</td>\n",
       "      <td>25</td>\n",
       "      <td>54</td>\n",
       "      <td>3.82</td>\n",
       "      <td>Protein Shake 4-pack</td>\n",
       "      <td>Beverages</td>\n",
       "      <td>158</td>\n",
       "      <td>8</td>\n",
       "      <td>6779.24</td>\n",
       "    </tr>\n",
       "    <tr>\n",
       "      <th>37439</th>\n",
       "      <td>2024-W52</td>\n",
       "      <td>1047</td>\n",
       "      <td>514</td>\n",
       "      <td>658</td>\n",
       "      <td>940.83</td>\n",
       "      <td>0</td>\n",
       "      <td>16</td>\n",
       "      <td>4.37</td>\n",
       "      <td>Green Tea 40bags</td>\n",
       "      <td>Beverages</td>\n",
       "      <td>92</td>\n",
       "      <td>3</td>\n",
       "      <td>1934.63</td>\n",
       "    </tr>\n",
       "  </tbody>\n",
       "</table>\n",
       "<p>37440 rows × 13 columns</p>\n",
       "</div>"
      ],
      "text/plain": [
       "      Week_Number  Product_ID  Store_ID  Units_Sold  Marketing_Spend  \\\n",
       "0        2024-W01        1000       500        4853           670.37   \n",
       "1        2024-W01        1001       500        4274          1089.62   \n",
       "2        2024-W01        1002       500        4215          1004.99   \n",
       "3        2024-W01        1003       500        5768           859.45   \n",
       "4        2024-W01        1004       500        3403           576.70   \n",
       "...           ...         ...       ...         ...              ...   \n",
       "37435    2024-W52        1043       514         895           488.97   \n",
       "37436    2024-W52        1044       514        1558           657.76   \n",
       "37437    2024-W52        1045       514         993           442.56   \n",
       "37438    2024-W52        1046       514        2168          1502.52   \n",
       "37439    2024-W52        1047       514         658           940.83   \n",
       "\n",
       "       Discount_Percent  Wastage_Units  Price                  Product_Name  \\\n",
       "0                     0            718   2.46        Whole Wheat Bread 800g   \n",
       "1                     0            641   1.27           White Sandwich Loaf   \n",
       "2                    10            632   2.74              Croissant 4-pack   \n",
       "3                    20            853   1.82      Blueberry Muffins 6-pack   \n",
       "4                     0            503   3.46        Chocolate Chip Cookies   \n",
       "...                 ...            ...    ...                           ...   \n",
       "37435                15             22   1.62  English Breakfast Tea 80bags   \n",
       "37436                10             38   5.05            Sparkling Water 1L   \n",
       "37437                 0             24   5.72                   Lemonade 2L   \n",
       "37438                25             54   3.82          Protein Shake 4-pack   \n",
       "37439                 0             16   4.37              Green Tea 40bags   \n",
       "\n",
       "      Product_Category  Shelf_Life_Days  Supplier_ID   Revenue  \n",
       "0               Bakery                4            4  11268.01  \n",
       "1               Bakery                2            8   4338.36  \n",
       "2               Bakery                2            5  10544.11  \n",
       "3               Bakery                4           10   9638.31  \n",
       "4               Bakery                4            7  11197.68  \n",
       "...                ...              ...          ...       ...  \n",
       "37435        Beverages              246            9    960.93  \n",
       "37436        Beverages              186            1   7210.14  \n",
       "37437        Beverages              356            9   5237.40  \n",
       "37438        Beverages              158            8   6779.24  \n",
       "37439        Beverages               92            3   1934.63  \n",
       "\n",
       "[37440 rows x 13 columns]"
      ]
     },
     "execution_count": 33,
     "metadata": {},
     "output_type": "execute_result"
    }
   ],
   "source": [
    "category_price"
   ]
  },
  {
   "cell_type": "code",
   "execution_count": null,
   "id": "909161f8",
   "metadata": {},
   "outputs": [
    {
     "name": "stdout",
     "output_type": "stream",
     "text": [
      "0        2024-01\n",
      "1        2024-01\n",
      "2        2024-01\n",
      "3        2024-01\n",
      "4        2024-01\n",
      "          ...   \n",
      "37435    2024-12\n",
      "37436    2024-12\n",
      "37437    2024-12\n",
      "37438    2024-12\n",
      "37439    2024-12\n",
      "Name: month, Length: 37440, dtype: object\n"
     ]
    }
   ],
   "source": [
    "# Convert the Week_Number to a proper datetime\n",
    "category_price[\"week_start\"] = pd.to_datetime(category_price[\"Week_Number\"].astype('str') + \"-1\", format=\"%G-W%V-%u\")\n",
    "\n",
    "# Extract month as Year Month\n",
    "category_price[\"month\"] = category_price[\"week_start\"].dt.to_period(\"M\").astype(str)\n",
    "\n",
    "# Ensure numeric columns are numeric\n",
    "numeric_columns = category_price.select_dtypes(include=['number']).columns\n",
    "category_price[numeric_columns] = category_price[numeric_columns].apply(pd.to_numeric, errors='coerce')\n",
    "\n",
    "# Aggregate\n",
    "monthly_sales = category_price.groupby(\"month\").agg({\n",
    "    \"Units_Sold\": \"sum\",\n",
    "    \"Marketing_Spend\": \"sum\",\n",
    "    \"Discount_Percent\": \"mean\",\n",
    "    \"Wastage_Units\": \"sum\",\n",
    "    \"Price\": \"mean\",\n",
    "    \"Revenue\": \"sum\" }).reset_index()\n",
    "\n",
    "monthly_sales"
   ]
  },
  {
   "cell_type": "code",
   "execution_count": 33,
   "id": "ce3538d2",
   "metadata": {},
   "outputs": [
    {
     "data": {
      "image/png": "[encoded data removed]",
      "text/plain": [
       "<Figure size 600x500 with 1 Axes>"
      ]
     },
     "metadata": {},
     "output_type": "display_data"
    }
   ],
   "source": [
    "# Sort months chronologically (important for line plot)\n",
    "monthly_sales = monthly_sales.sort_values(\"month\")\n",
    "\n",
    "# Line plot of sales and wastage trends over months\n",
    "plt.figure(figsize=(6,5))\n",
    "sns.lineplot(x=\"month\", y=\"Units_Sold\", data=monthly_sales, label=\"Units Sold\")\n",
    "sns.lineplot(x=\"month\", y=\"Wastage_Units\", data=monthly_sales, label=\"Wastage Units\")\n",
    "plt.title(\"Sales and Wastage Trends over Months\")\n",
    "plt.xlabel(\"Month\")\n",
    "plt.ylabel(\"Units\")\n",
    "plt.xticks(rotation=45)\n",
    "plt.tight_layout()\n",
    "plt.show()"
   ]
  },
  {
   "cell_type": "code",
   "execution_count": 34,
   "id": "3a65118e",
   "metadata": {},
   "outputs": [
    {
     "name": "stdout",
     "output_type": "stream",
     "text": [
      "The best sales month is 2024-01\n"
     ]
    }
   ],
   "source": [
    "# Best Sales Month\n",
    "print(f\"The best sales month is {monthly_sales.loc[monthly_sales['Revenue'].idxmax(), 'month']}\")"
   ]
  },
  {
   "cell_type": "code",
   "execution_count": 35,
   "id": "e3bbc48a",
   "metadata": {},
   "outputs": [
    {
     "name": "stdout",
     "output_type": "stream",
     "text": [
      "The month with the highest wastage is 2024-01\n"
     ]
    }
   ],
   "source": [
    "# Month with the highest wastage\n",
    "print(f\"The month with the highest wastage is {monthly_sales.loc[monthly_sales['Wastage_Units'].idxmax(), 'month']}\")"
   ]
  },
  {
   "cell_type": "code",
   "execution_count": 36,
   "id": "55a7cf1d",
   "metadata": {},
   "outputs": [
    {
     "name": "stdout",
     "output_type": "stream",
     "text": [
      "The most efficient marketing month is 2024-05\n"
     ]
    }
   ],
   "source": [
    "# Most Efficient marketing month\n",
    "print(f\"The most efficient marketing month is {monthly_sales.loc[monthly_sales['Marketing_Spend'].idxmin(), 'month']}\")"
   ]
  },
  {
   "cell_type": "markdown",
   "id": "35b11ceb",
   "metadata": {
    "vscode": {
     "languageId": "powershell"
    }
   },
   "source": [
    "## 9. Shelf Life Capacity"
   ]
  },
  {
   "cell_type": "markdown",
   "id": "e84dc42b",
   "metadata": {},
   "source": [
    "## Is there a correlation between Shelf life and Wastage?"
   ]
  },
  {
   "cell_type": "markdown",
   "id": "a6360179",
   "metadata": {},
   "source": [
    "H0: There is no difference between the distribution of Shelf_Life_Days with that of a normal distribution.\n",
    "\n",
    "H1: There is a difference between the distribution of Shelf_Life_Days with that of a normal distribution"
   ]
  },
  {
   "cell_type": "code",
   "execution_count": 37,
   "id": "48ac929a",
   "metadata": {},
   "outputs": [
    {
     "name": "stdout",
     "output_type": "stream",
     "text": [
      "Shelf_Life_Days Amount Shapiro-Wilk Statistic: 0.6187\n",
      "Shelf_Life_Days P-value: 0.0000\n"
     ]
    },
    {
     "name": "stderr",
     "output_type": "stream",
     "text": [
      "c:\\Users\\hilla.HILLARY\\OneDrive\\Documents\\Desktop\\Amdari\\Predictive Modelling for Perishable Goods\\Code\\venv\\lib\\site-packages\\scipy\\stats\\_axis_nan_policy.py:586: UserWarning: scipy.stats.shapiro: For N > 5000, computed p-value may not be accurate. Current N is 37440.\n",
      "  res = hypotest_fun_out(*samples, **kwds)\n"
     ]
    }
   ],
   "source": [
    "# Perform Shapiro-Wilk test\n",
    "Shelf_Life_Days_statistic, Shelf_Life_Days_p_value = shapiro(category_price[\"Shelf_Life_Days\"])\n",
    "\n",
    "print(f\"Shelf_Life_Days Amount Shapiro-Wilk Statistic: {Shelf_Life_Days_statistic:.4f}\")\n",
    "print(f\"Shelf_Life_Days P-value: {Shelf_Life_Days_p_value:.4f}\")"
   ]
  },
  {
   "cell_type": "markdown",
   "id": "fcbcac9c",
   "metadata": {},
   "source": [
    "Looking at the p-value, which is less than the significant (5%), which is enough evidence to prove that the null hypothesis should be rejected and that there is a difference between the distribution of Shelf_Life_Days with that of a normal distribution."
   ]
  },
  {
   "cell_type": "markdown",
   "id": "33e5c90d",
   "metadata": {},
   "source": [
    "H0: There is no difference between the distribution of Wastage_Units with that of a normal distribution.\n",
    "\n",
    "H1: There is a difference between the distribution of Wastage_Units with that of a normal distribution"
   ]
  },
  {
   "cell_type": "code",
   "execution_count": 38,
   "id": "fe4aa66a",
   "metadata": {},
   "outputs": [
    {
     "name": "stdout",
     "output_type": "stream",
     "text": [
      "Wastage Units Shapiro-Wilk Statistic: 0.7527\n",
      "Wastage Units P-value: 0.0000\n"
     ]
    }
   ],
   "source": [
    "# Perform Shapiro-Wilk test\n",
    "Wastage_Units_statistic, Wastage_Units_p_value = shapiro(category_price[\"Wastage_Units\"])\n",
    "\n",
    "print(f\"Wastage Units Shapiro-Wilk Statistic: {Wastage_Units_statistic:.4f}\")\n",
    "print(f\"Wastage Units P-value: {Wastage_Units_p_value:.4f}\")"
   ]
  },
  {
   "cell_type": "markdown",
   "id": "b8d5ae06",
   "metadata": {},
   "source": [
    "Looking at the p-value, which is less than the significant (5%), which is enough evidence to prove that the null hypothesis should be rejected and that there is a difference between the distribution of Wastage_Units with that of a normal distribution."
   ]
  },
  {
   "cell_type": "markdown",
   "id": "57c833ac",
   "metadata": {},
   "source": [
    "Knowing that both variables (Shelf_Life_Days and Wastage_Units) are not normally distributed, I will proceed with the Spearman Correlation Co-efficient.\n",
    "\n",
    "H0: There is no linear relationship between Shelf_Life_Days and Wastage_Units.\n",
    "\n",
    "H1: There is a linear relationship between Shelf_Life_Days and Wastage_Units."
   ]
  },
  {
   "cell_type": "code",
   "execution_count": 39,
   "id": "fbcacd52",
   "metadata": {},
   "outputs": [
    {
     "name": "stdout",
     "output_type": "stream",
     "text": [
      "Spearman Correlation Coefficient: -0.6308\n",
      "P-value: 0.0000\n"
     ]
    }
   ],
   "source": [
    "# Perform Spearman Correlation Co-efficient between Total Purchases and Total Amount\n",
    "correlation, pvalue = spearmanr(category_price['Shelf_Life_Days'], category_price['Wastage_Units'])\n",
    "\n",
    "print(f\"Spearman Correlation Coefficient: {correlation:.4f}\")\n",
    "print(f\"P-value: {pvalue:.4f}\")"
   ]
  },
  {
   "cell_type": "markdown",
   "id": "5b969a0d",
   "metadata": {},
   "source": [
    "Looking at the p-value, which is less than the significant 5% (0.05), it is clear that the null hypothesis should be rejected. There is sufficient evidence to suggest that there is a linear relationship between Shelf_Life_Days and Wastage_Unitst. The correlation coefficient, which is -0.63, indicates that there is a strong negative association between Shelf_Life_Days and Wastage_Units."
   ]
  },
  {
   "cell_type": "code",
   "execution_count": 40,
   "id": "3061b543",
   "metadata": {},
   "outputs": [
    {
     "name": "stdout",
     "output_type": "stream",
     "text": [
      "The category with the shortest shelf life is Bakery\n",
      "The category with the longest shelf life is Beverages\n",
      "The category with the highest wastage linked to shelf life is Bakery\n"
     ]
    }
   ],
   "source": [
    "# Category with the shortest shelf life\n",
    "print(f\"The category with the shortest shelf life is {category_price.loc[category_price['Shelf_Life_Days'].idxmin(), 'Product_Category']}\")\n",
    "# Category with the longest shelf life\n",
    "print(f\"The category with the longest shelf life is {category_price.loc[category_price['Shelf_Life_Days'].idxmax(), 'Product_Category']}\")\n",
    "# Categorty with highest wastage linked to shelf life\n",
    "print(f\"The category with the highest wastage linked to shelf life is {category_price.loc[category_price['Wastage_Units'].idxmax(), 'Product_Category']}\")"
   ]
  },
  {
   "cell_type": "markdown",
   "id": "764bb27d",
   "metadata": {},
   "source": [
    "## 10. Store Efficiency Analysis"
   ]
  },
  {
   "cell_type": "code",
   "execution_count": 41,
   "id": "d574ab67",
   "metadata": {},
   "outputs": [
    {
     "data": {
      "text/html": [
       "<div>\n",
       "<style scoped>\n",
       "    .dataframe tbody tr th:only-of-type {\n",
       "        vertical-align: middle;\n",
       "    }\n",
       "\n",
       "    .dataframe tbody tr th {\n",
       "        vertical-align: top;\n",
       "    }\n",
       "\n",
       "    .dataframe thead th {\n",
       "        text-align: right;\n",
       "    }\n",
       "</style>\n",
       "<table border=\"1\" class=\"dataframe\">\n",
       "  <thead>\n",
       "    <tr style=\"text-align: right;\">\n",
       "      <th></th>\n",
       "      <th>Store_ID</th>\n",
       "      <th>Region</th>\n",
       "      <th>Store_Size</th>\n",
       "      <th>Cold_Storage_Capacity</th>\n",
       "      <th>Week_Number</th>\n",
       "      <th>Product_ID</th>\n",
       "      <th>Units_Sold</th>\n",
       "      <th>Marketing_Spend</th>\n",
       "      <th>Discount_Percent</th>\n",
       "      <th>Wastage_Units</th>\n",
       "      <th>Price</th>\n",
       "      <th>Product_Name</th>\n",
       "      <th>Product_Category</th>\n",
       "      <th>Shelf_Life_Days</th>\n",
       "      <th>Supplier_ID</th>\n",
       "      <th>Revenue</th>\n",
       "      <th>week_start</th>\n",
       "      <th>month</th>\n",
       "    </tr>\n",
       "  </thead>\n",
       "  <tbody>\n",
       "    <tr>\n",
       "      <th>0</th>\n",
       "      <td>500</td>\n",
       "      <td>London</td>\n",
       "      <td>12000</td>\n",
       "      <td>3788</td>\n",
       "      <td>2024-W01</td>\n",
       "      <td>1000</td>\n",
       "      <td>4853</td>\n",
       "      <td>670.37</td>\n",
       "      <td>0</td>\n",
       "      <td>718</td>\n",
       "      <td>2.46</td>\n",
       "      <td>Whole Wheat Bread 800g</td>\n",
       "      <td>Bakery</td>\n",
       "      <td>4</td>\n",
       "      <td>4</td>\n",
       "      <td>11268.01</td>\n",
       "      <td>2024-01-01</td>\n",
       "      <td>2024-01</td>\n",
       "    </tr>\n",
       "    <tr>\n",
       "      <th>1</th>\n",
       "      <td>500</td>\n",
       "      <td>London</td>\n",
       "      <td>12000</td>\n",
       "      <td>3788</td>\n",
       "      <td>2024-W01</td>\n",
       "      <td>1001</td>\n",
       "      <td>4274</td>\n",
       "      <td>1089.62</td>\n",
       "      <td>0</td>\n",
       "      <td>641</td>\n",
       "      <td>1.27</td>\n",
       "      <td>White Sandwich Loaf</td>\n",
       "      <td>Bakery</td>\n",
       "      <td>2</td>\n",
       "      <td>8</td>\n",
       "      <td>4338.36</td>\n",
       "      <td>2024-01-01</td>\n",
       "      <td>2024-01</td>\n",
       "    </tr>\n",
       "    <tr>\n",
       "      <th>2</th>\n",
       "      <td>500</td>\n",
       "      <td>London</td>\n",
       "      <td>12000</td>\n",
       "      <td>3788</td>\n",
       "      <td>2024-W01</td>\n",
       "      <td>1002</td>\n",
       "      <td>4215</td>\n",
       "      <td>1004.99</td>\n",
       "      <td>10</td>\n",
       "      <td>632</td>\n",
       "      <td>2.74</td>\n",
       "      <td>Croissant 4-pack</td>\n",
       "      <td>Bakery</td>\n",
       "      <td>2</td>\n",
       "      <td>5</td>\n",
       "      <td>10544.11</td>\n",
       "      <td>2024-01-01</td>\n",
       "      <td>2024-01</td>\n",
       "    </tr>\n",
       "    <tr>\n",
       "      <th>3</th>\n",
       "      <td>500</td>\n",
       "      <td>London</td>\n",
       "      <td>12000</td>\n",
       "      <td>3788</td>\n",
       "      <td>2024-W01</td>\n",
       "      <td>1003</td>\n",
       "      <td>5768</td>\n",
       "      <td>859.45</td>\n",
       "      <td>20</td>\n",
       "      <td>853</td>\n",
       "      <td>1.82</td>\n",
       "      <td>Blueberry Muffins 6-pack</td>\n",
       "      <td>Bakery</td>\n",
       "      <td>4</td>\n",
       "      <td>10</td>\n",
       "      <td>9638.31</td>\n",
       "      <td>2024-01-01</td>\n",
       "      <td>2024-01</td>\n",
       "    </tr>\n",
       "    <tr>\n",
       "      <th>4</th>\n",
       "      <td>500</td>\n",
       "      <td>London</td>\n",
       "      <td>12000</td>\n",
       "      <td>3788</td>\n",
       "      <td>2024-W01</td>\n",
       "      <td>1004</td>\n",
       "      <td>3403</td>\n",
       "      <td>576.70</td>\n",
       "      <td>0</td>\n",
       "      <td>503</td>\n",
       "      <td>3.46</td>\n",
       "      <td>Chocolate Chip Cookies</td>\n",
       "      <td>Bakery</td>\n",
       "      <td>4</td>\n",
       "      <td>7</td>\n",
       "      <td>11197.68</td>\n",
       "      <td>2024-01-01</td>\n",
       "      <td>2024-01</td>\n",
       "    </tr>\n",
       "    <tr>\n",
       "      <th>...</th>\n",
       "      <td>...</td>\n",
       "      <td>...</td>\n",
       "      <td>...</td>\n",
       "      <td>...</td>\n",
       "      <td>...</td>\n",
       "      <td>...</td>\n",
       "      <td>...</td>\n",
       "      <td>...</td>\n",
       "      <td>...</td>\n",
       "      <td>...</td>\n",
       "      <td>...</td>\n",
       "      <td>...</td>\n",
       "      <td>...</td>\n",
       "      <td>...</td>\n",
       "      <td>...</td>\n",
       "      <td>...</td>\n",
       "      <td>...</td>\n",
       "      <td>...</td>\n",
       "    </tr>\n",
       "    <tr>\n",
       "      <th>37435</th>\n",
       "      <td>514</td>\n",
       "      <td>South West</td>\n",
       "      <td>3000</td>\n",
       "      <td>1001</td>\n",
       "      <td>2024-W52</td>\n",
       "      <td>1043</td>\n",
       "      <td>895</td>\n",
       "      <td>488.97</td>\n",
       "      <td>15</td>\n",
       "      <td>22</td>\n",
       "      <td>1.62</td>\n",
       "      <td>English Breakfast Tea 80bags</td>\n",
       "      <td>Beverages</td>\n",
       "      <td>246</td>\n",
       "      <td>9</td>\n",
       "      <td>960.93</td>\n",
       "      <td>2024-12-23</td>\n",
       "      <td>2024-12</td>\n",
       "    </tr>\n",
       "    <tr>\n",
       "      <th>37436</th>\n",
       "      <td>514</td>\n",
       "      <td>South West</td>\n",
       "      <td>3000</td>\n",
       "      <td>1001</td>\n",
       "      <td>2024-W52</td>\n",
       "      <td>1044</td>\n",
       "      <td>1558</td>\n",
       "      <td>657.76</td>\n",
       "      <td>10</td>\n",
       "      <td>38</td>\n",
       "      <td>5.05</td>\n",
       "      <td>Sparkling Water 1L</td>\n",
       "      <td>Beverages</td>\n",
       "      <td>186</td>\n",
       "      <td>1</td>\n",
       "      <td>7210.14</td>\n",
       "      <td>2024-12-23</td>\n",
       "      <td>2024-12</td>\n",
       "    </tr>\n",
       "    <tr>\n",
       "      <th>37437</th>\n",
       "      <td>514</td>\n",
       "      <td>South West</td>\n",
       "      <td>3000</td>\n",
       "      <td>1001</td>\n",
       "      <td>2024-W52</td>\n",
       "      <td>1045</td>\n",
       "      <td>993</td>\n",
       "      <td>442.56</td>\n",
       "      <td>0</td>\n",
       "      <td>24</td>\n",
       "      <td>5.72</td>\n",
       "      <td>Lemonade 2L</td>\n",
       "      <td>Beverages</td>\n",
       "      <td>356</td>\n",
       "      <td>9</td>\n",
       "      <td>5237.40</td>\n",
       "      <td>2024-12-23</td>\n",
       "      <td>2024-12</td>\n",
       "    </tr>\n",
       "    <tr>\n",
       "      <th>37438</th>\n",
       "      <td>514</td>\n",
       "      <td>South West</td>\n",
       "      <td>3000</td>\n",
       "      <td>1001</td>\n",
       "      <td>2024-W52</td>\n",
       "      <td>1046</td>\n",
       "      <td>2168</td>\n",
       "      <td>1502.52</td>\n",
       "      <td>25</td>\n",
       "      <td>54</td>\n",
       "      <td>3.82</td>\n",
       "      <td>Protein Shake 4-pack</td>\n",
       "      <td>Beverages</td>\n",
       "      <td>158</td>\n",
       "      <td>8</td>\n",
       "      <td>6779.24</td>\n",
       "      <td>2024-12-23</td>\n",
       "      <td>2024-12</td>\n",
       "    </tr>\n",
       "    <tr>\n",
       "      <th>37439</th>\n",
       "      <td>514</td>\n",
       "      <td>South West</td>\n",
       "      <td>3000</td>\n",
       "      <td>1001</td>\n",
       "      <td>2024-W52</td>\n",
       "      <td>1047</td>\n",
       "      <td>658</td>\n",
       "      <td>940.83</td>\n",
       "      <td>0</td>\n",
       "      <td>16</td>\n",
       "      <td>4.37</td>\n",
       "      <td>Green Tea 40bags</td>\n",
       "      <td>Beverages</td>\n",
       "      <td>92</td>\n",
       "      <td>3</td>\n",
       "      <td>1934.63</td>\n",
       "      <td>2024-12-23</td>\n",
       "      <td>2024-12</td>\n",
       "    </tr>\n",
       "  </tbody>\n",
       "</table>\n",
       "<p>37440 rows × 18 columns</p>\n",
       "</div>"
      ],
      "text/plain": [
       "       Store_ID      Region  Store_Size  Cold_Storage_Capacity Week_Number  \\\n",
       "0           500      London       12000                   3788    2024-W01   \n",
       "1           500      London       12000                   3788    2024-W01   \n",
       "2           500      London       12000                   3788    2024-W01   \n",
       "3           500      London       12000                   3788    2024-W01   \n",
       "4           500      London       12000                   3788    2024-W01   \n",
       "...         ...         ...         ...                    ...         ...   \n",
       "37435       514  South West        3000                   1001    2024-W52   \n",
       "37436       514  South West        3000                   1001    2024-W52   \n",
       "37437       514  South West        3000                   1001    2024-W52   \n",
       "37438       514  South West        3000                   1001    2024-W52   \n",
       "37439       514  South West        3000                   1001    2024-W52   \n",
       "\n",
       "       Product_ID  Units_Sold  Marketing_Spend  Discount_Percent  \\\n",
       "0            1000        4853           670.37                 0   \n",
       "1            1001        4274          1089.62                 0   \n",
       "2            1002        4215          1004.99                10   \n",
       "3            1003        5768           859.45                20   \n",
       "4            1004        3403           576.70                 0   \n",
       "...           ...         ...              ...               ...   \n",
       "37435        1043         895           488.97                15   \n",
       "37436        1044        1558           657.76                10   \n",
       "37437        1045         993           442.56                 0   \n",
       "37438        1046        2168          1502.52                25   \n",
       "37439        1047         658           940.83                 0   \n",
       "\n",
       "       Wastage_Units  Price                  Product_Name Product_Category  \\\n",
       "0                718   2.46        Whole Wheat Bread 800g           Bakery   \n",
       "1                641   1.27           White Sandwich Loaf           Bakery   \n",
       "2                632   2.74              Croissant 4-pack           Bakery   \n",
       "3                853   1.82      Blueberry Muffins 6-pack           Bakery   \n",
       "4                503   3.46        Chocolate Chip Cookies           Bakery   \n",
       "...              ...    ...                           ...              ...   \n",
       "37435             22   1.62  English Breakfast Tea 80bags        Beverages   \n",
       "37436             38   5.05            Sparkling Water 1L        Beverages   \n",
       "37437             24   5.72                   Lemonade 2L        Beverages   \n",
       "37438             54   3.82          Protein Shake 4-pack        Beverages   \n",
       "37439             16   4.37              Green Tea 40bags        Beverages   \n",
       "\n",
       "       Shelf_Life_Days  Supplier_ID   Revenue week_start    month  \n",
       "0                    4            4  11268.01 2024-01-01  2024-01  \n",
       "1                    2            8   4338.36 2024-01-01  2024-01  \n",
       "2                    2            5  10544.11 2024-01-01  2024-01  \n",
       "3                    4           10   9638.31 2024-01-01  2024-01  \n",
       "4                    4            7  11197.68 2024-01-01  2024-01  \n",
       "...                ...          ...       ...        ...      ...  \n",
       "37435              246            9    960.93 2024-12-23  2024-12  \n",
       "37436              186            1   7210.14 2024-12-23  2024-12  \n",
       "37437              356            9   5237.40 2024-12-23  2024-12  \n",
       "37438              158            8   6779.24 2024-12-23  2024-12  \n",
       "37439               92            3   1934.63 2024-12-23  2024-12  \n",
       "\n",
       "[37440 rows x 18 columns]"
      ]
     },
     "execution_count": 41,
     "metadata": {},
     "output_type": "execute_result"
    }
   ],
   "source": [
    "store_category_price = store_info.merge(category_price, on='Store_ID')\n",
    "store_category_price"
   ]
  },
  {
   "cell_type": "code",
   "execution_count": 42,
   "id": "640061fc",
   "metadata": {},
   "outputs": [
    {
     "name": "stdout",
     "output_type": "stream",
     "text": [
      "The best performing store is 500\n",
      "The best performing store is located in London\n",
      "The lowest wastage store is 506\n",
      "The lowest wastage store is located in South West\n"
     ]
    }
   ],
   "source": [
    "# Best Perfoming store (highest units sold)\n",
    "print(f\"The best performing store is {store_category_price.loc[store_category_price['Units_Sold'].idxmax(), 'Store_ID']}\")\n",
    "print(f\"The best performing store is located in {store_category_price.loc[store_category_price['Units_Sold'].idxmax(), 'Region']}\")\n",
    "\n",
    "# Lowest wastage store\n",
    "print(f\"The lowest wastage store is {store_category_price.loc[store_category_price['Wastage_Units'].idxmin(), 'Store_ID']}\")\n",
    "print(f\"The lowest wastage store is located in {store_category_price.loc[store_category_price['Wastage_Units'].idxmin(), 'Region']}\")"
   ]
  },
  {
   "cell_type": "code",
   "execution_count": null,
   "id": "c6587d43",
   "metadata": {},
   "outputs": [],
   "source": []
  }
 ],
 "metadata": {
  "kernelspec": {
   "display_name": "venv",
   "language": "python",
   "name": "python3"
  },
  "language_info": {
   "codemirror_mode": {
    "name": "ipython",
    "version": 3
   },
   "file_extension": ".py",
   "mimetype": "text/x-python",
   "name": "python",
   "nbconvert_exporter": "python",
   "pygments_lexer": "ipython3",
   "version": "3.10.11"
  }
 },
 "nbformat": 4,
 "nbformat_minor": 5
}
